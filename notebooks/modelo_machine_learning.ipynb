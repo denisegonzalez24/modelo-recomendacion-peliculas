{
 "cells": [
  {
   "cell_type": "markdown",
   "metadata": {},
   "source": [
    "## Modelo Machine learning"
   ]
  },
  {
   "cell_type": "code",
   "execution_count": 14,
   "metadata": {},
   "outputs": [],
   "source": [
    "import pandas as pd\n",
    "from sklearn.feature_extraction.text import TfidfVectorizer\n",
    "from sklearn.metrics.pairwise import linear_kernel\n"
   ]
  },
  {
   "cell_type": "markdown",
   "metadata": {},
   "source": [
    "cargo mi dataframe de mi muestra"
   ]
  },
  {
   "cell_type": "code",
   "execution_count": 15,
   "metadata": {},
   "outputs": [],
   "source": [
    "muestra = pd.read_csv('../datos/muestra.csv')"
   ]
  },
  {
   "cell_type": "markdown",
   "metadata": {},
   "source": [
    "Seleccionar columnas válidas y rellenar valores nulos con cadenas vacías"
   ]
  },
  {
   "cell_type": "code",
   "execution_count": 16,
   "metadata": {},
   "outputs": [],
   "source": [
    "valid_columns = ['title', 'genres_clean', 'companies_names', 'director', 'overview']\n",
    "\n",
    "muestra = muestra.fillna(\"\")"
   ]
  },
  {
   "cell_type": "markdown",
   "metadata": {},
   "source": [
    "combinar genres_clean, companies_names y director"
   ]
  },
  {
   "cell_type": "code",
   "execution_count": 17,
   "metadata": {},
   "outputs": [],
   "source": [
    "muestra['combined'] = muestra['genres_clean'] + ' ' + muestra['companies_names'] + ' ' + muestra['director'] "
   ]
  },
  {
   "cell_type": "markdown",
   "metadata": {},
   "source": [
    "Aplicar TfidfVectorizer en la nueva columna combinada y calcular la similitud del coseno"
   ]
  },
  {
   "cell_type": "code",
   "execution_count": 18,
   "metadata": {},
   "outputs": [],
   "source": [
    "tfidf = TfidfVectorizer(stop_words='english')\n",
    "tfidf_matrix = tfidf.fit_transform(muestra['combined'])\n",
    "\n",
    "cosine_similarity = linear_kernel(tfidf_matrix, tfidf_matrix)"
   ]
  },
  {
   "cell_type": "markdown",
   "metadata": {},
   "source": [
    "Función de recomendación"
   ]
  },
  {
   "cell_type": "code",
   "execution_count": 19,
   "metadata": {},
   "outputs": [],
   "source": [
    "\n",
    "def recomendacion_movie(title: str):\n",
    "    title = title.lower()\n",
    "    if title not in muestra['title'].values:\n",
    "        return {'mensaje': 'No hay datos de la pelicula'}\n",
    "    \n",
    "    idx = muestra[muestra['title'] == title].index[0]\n",
    "    sim_cosine = list(enumerate(cosine_similarity[idx]))\n",
    "    sim_scores = sorted(sim_cosine, key=lambda x: x[1], reverse=True)\n",
    "    sim_ind = [i for i, _ in sim_scores[1:6]]\n",
    "    sim_movies = muestra['title'].iloc[sim_ind].values.tolist()\n",
    "    return {f'peliculas recomendados para {title}': list(sim_movies)}"
   ]
  },
  {
   "cell_type": "code",
   "execution_count": 20,
   "metadata": {},
   "outputs": [
    {
     "name": "stdout",
     "output_type": "stream",
     "text": [
      "{'peliculas recomendados para toy story': ['toy story 2', 'luxo jr.', 'tin toy', \"red's dream\", 'knick knack']}\n"
     ]
    }
   ],
   "source": [
    "# Ejemplo de uso\n",
    "#recomendacion = recomendacion_movie(\"toy story\")\n",
    "#print(recomendacion)\n"
   ]
  }
 ],
 "metadata": {
  "kernelspec": {
   "display_name": "proyectoi",
   "language": "python",
   "name": "python3"
  },
  "language_info": {
   "codemirror_mode": {
    "name": "ipython",
    "version": 3
   },
   "file_extension": ".py",
   "mimetype": "text/x-python",
   "name": "python",
   "nbconvert_exporter": "python",
   "pygments_lexer": "ipython3",
   "version": "3.11.4"
  }
 },
 "nbformat": 4,
 "nbformat_minor": 2
}
